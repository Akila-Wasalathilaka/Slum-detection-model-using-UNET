{
 "cells": [
  {
   "cell_type": "markdown",
   "metadata": {},
   "source": [
    "# 🏘️ Slum Detection Model - Google Colab Training\n",
    "\n",
    "**UNet-based semantic segmentation for detecting informal settlements**\n",
    "\n",
    "- Model: ResNet34 UNet\n",
    "- Target: 99.67% AUC-ROC\n",
    "- Training Time: ~3-6 hours on Colab GPU"
   ]
  },
  {
   "cell_type": "code",
   "execution_count": null,
   "metadata": {},
   "outputs": [],
   "source": [
    "# Mount Google Drive\n",
    "from google.colab import drive\n",
    "drive.mount('/content/drive')"
   ]
  },
  {
   "cell_type": "code",
   "execution_count": null,
   "metadata": {},
   "outputs": [],
   "source": [
    "# Install dependencies\n",
    "!pip install segmentation-models-pytorch albumentations --quiet"
   ]
  },
  {
   "cell_type": "code",
   "execution_count": null,
   "metadata": {},
   "outputs": [],
   "source": [
    "# Clone repository\n",
    "!git clone https://github.com/Akila-Wasalathilaka/Slum-detection-model-using-UNET.git\n",
    "%cd Slum-detection-model-using-UNET"
   ]
  },
  {
   "cell_type": "code",
   "execution_count": null,
   "metadata": {},
   "outputs": [],
   "source": [
    "# Check GPU availability\n",
    "import torch\n",
    "print(f\"CUDA Available: {torch.cuda.is_available()}\")\n",
    "if torch.cuda.is_available():\n",
    "    print(f\"GPU: {torch.cuda.get_device_name(0)}\")\n",
    "    print(f\"Memory: {torch.cuda.get_device_properties(0).total_memory // 1024**3} GB\")"
   ]
  },
  {
   "cell_type": "code",
   "execution_count": null,
   "metadata": {},
   "outputs": [],
   "source": [
    "# Link to your Google Drive data\n",
    "!ln -s /content/drive/MyDrive/data data\n",
    "\n",
    "# Verify data access\n",
    "!ls -la data/\n",
    "print(\"Data linked successfully!\")"
   ]
  },
  {
   "cell_type": "code",
   "execution_count": null,
   "metadata": {},
   "outputs": [],
   "source": [
    "# Quick development training (5 epochs)\n",
    "!python scripts/train.py --model balanced --training development --data standard"
   ]
  },
  {
   "cell_type": "code",
   "execution_count": null,
   "metadata": {},
   "outputs": [],
   "source": [
    "# Production training (uncomment for full training)\n",
    "# !python scripts/train.py --model balanced --training production --data heavy_augmentation"
   ]
  },
  {
   "cell_type": "code",
   "execution_count": null,
   "metadata": {},
   "outputs": [],
   "source": [
    "# View results\n",
    "import matplotlib.pyplot as plt\n",
    "from pathlib import Path\n",
    "import json\n",
    "\n",
    "# Find latest experiment\n",
    "exp_dirs = list(Path('experiments').glob('*'))\n",
    "if exp_dirs:\n",
    "    latest_exp = max(exp_dirs, key=lambda x: x.stat().st_mtime)\n",
    "    print(f\"Latest experiment: {latest_exp.name}\")\n",
    "    \n",
    "    # Load training history\n",
    "    history_file = latest_exp / 'training_history.json'\n",
    "    if history_file.exists():\n",
    "        with open(history_file) as f:\n",
    "            history = json.load(f)\n",
    "        \n",
    "        # Plot training curves\n",
    "        fig, axes = plt.subplots(1, 2, figsize=(12, 4))\n",
    "        \n",
    "        # Loss\n",
    "        axes[0].plot(history['train_loss'], label='Train')\n",
    "        axes[0].plot(history['val_loss'], label='Val')\n",
    "        axes[0].set_title('Loss')\n",
    "        axes[0].legend()\n",
    "        \n",
    "        # IoU\n",
    "        axes[1].plot(history['train_iou'], label='Train')\n",
    "        axes[1].plot(history['val_iou'], label='Val')\n",
    "        axes[1].set_title('IoU')\n",
    "        axes[1].legend()\n",
    "        \n",
    "        plt.tight_layout()\n",
    "        plt.show()\n",
    "        \n",
    "        print(f\"Best Val IoU: {max(history['val_iou']):.4f}\")\n",
    "else:\n",
    "    print(\"No experiments found\")"
   ]
  },
  {
   "cell_type": "code",
   "execution_count": null,
   "metadata": {},
   "outputs": [],
   "source": [
    "# Save results to Google Drive\n",
    "!cp -r experiments /content/drive/MyDrive/slum_detection_results\n",
    "print(\"Results saved to Google Drive: /MyDrive/slum_detection_results\")"
   ]
  }
 ],
 "metadata": {
  "kernelspec": {
   "display_name": "Python 3",
   "language": "python",
   "name": "python3"
  },
  "language_info": {
   "codemirror_mode": {
    "name": "ipython",
    "version": 3
   },
   "file_extension": ".py",
   "mimetype": "text/x-python",
   "name": "python",
   "nbconvert_exporter": "python",
   "pygments_lexer": "ipython3",
   "version": "3.8.0"
  }
 },
 "nbformat": 4,
 "nbformat_minor": 4
}